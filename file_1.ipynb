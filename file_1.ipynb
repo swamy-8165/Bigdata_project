{
 "cells": [
  {
   "cell_type": "code",
   "execution_count": 2,
   "metadata": {},
   "outputs": [
    {
     "name": "stdout",
     "output_type": "stream",
     "text": [
      "Requirement already satisfied: cassandra-driver in c:\\users\\swamy\\appdata\\local\\programs\\python\\python312\\lib\\site-packages (3.29.2)"
     ]
    },
    {
     "name": "stderr",
     "output_type": "stream",
     "text": [
      "\n",
      "[notice] A new release of pip is available: 24.2 -> 24.3.1\n",
      "[notice] To update, run: python.exe -m pip install --upgrade pip\n"
     ]
    },
    {
     "name": "stdout",
     "output_type": "stream",
     "text": [
      "\n",
      "Requirement already satisfied: geomet<0.3,>=0.1 in c:\\users\\swamy\\appdata\\local\\programs\\python\\python312\\lib\\site-packages (from cassandra-driver) (0.2.1.post1)\n",
      "Requirement already satisfied: click in c:\\users\\swamy\\appdata\\local\\programs\\python\\python312\\lib\\site-packages (from geomet<0.3,>=0.1->cassandra-driver) (8.1.7)\n",
      "Requirement already satisfied: six in c:\\users\\swamy\\appdata\\local\\programs\\python\\python312\\lib\\site-packages (from geomet<0.3,>=0.1->cassandra-driver) (1.16.0)\n",
      "Requirement already satisfied: colorama in c:\\users\\swamy\\appdata\\local\\programs\\python\\python312\\lib\\site-packages (from click->geomet<0.3,>=0.1->cassandra-driver) (0.4.6)\n"
     ]
    }
   ],
   "source": [
    "!pip install cassandra-driver"
   ]
  },
  {
   "cell_type": "code",
   "execution_count": 1,
   "metadata": {},
   "outputs": [],
   "source": [
    "import os\n",
    "import sys\n",
    "import pandas as pd\n",
    "from cassandra.cluster import Cluster\n",
    "from cassandra.auth import PlainTextAuthProvider\n",
    "import json"
   ]
  },
  {
   "cell_type": "code",
   "execution_count": 2,
   "metadata": {},
   "outputs": [
    {
     "name": "stdout",
     "output_type": "stream",
     "text": [
      "connected\n"
     ]
    }
   ],
   "source": [
    "cloud_config= {\n",
    "  'secure_connect_bundle': 'C:/Users/SWAMY/Desktop/Cassandra/secure-connect-bigdata.zip'\n",
    "}\n",
    "\n",
    "with open(\"C:/Users/SWAMY/Desktop/Cassandra/bigdata-token.json\") as f:\n",
    "    secrets = json.load(f)\n",
    "\n",
    "CLIENT_ID = secrets[\"clientId\"]\n",
    "CLIENT_SECRET = secrets[\"secret\"]\n",
    "\n",
    "auth_provider = PlainTextAuthProvider(CLIENT_ID, CLIENT_SECRET)\n",
    "cluster = Cluster(cloud=cloud_config, auth_provider=auth_provider)\n",
    "session = cluster.connect()\n",
    "if session:\n",
    "    print(\"connected\")\n",
    "else:\n",
    "    print(\"Unable to connect with DB. Make sure properly given\")\n",
    "    sys.exit(1)"
   ]
  },
  {
   "cell_type": "markdown",
   "metadata": {},
   "source": [
    "Creating the Brozen Table with Raw data"
   ]
  },
  {
   "cell_type": "code",
   "execution_count": 3,
   "metadata": {},
   "outputs": [
    {
     "data": {
      "text/plain": [
       "<cassandra.cluster.ResultSet at 0x222ff2d8bd0>"
      ]
     },
     "execution_count": 3,
     "metadata": {},
     "output_type": "execute_result"
    }
   ],
   "source": [
    "# Drop the table if it exists\n",
    "session.execute(\n",
    "    \"\"\" \n",
    "    DROP TABLE IF EXISTS bigdata_1.sales_brozen;\n",
    "    \"\"\"\n",
    ")\n",
    "\n",
    "# Create the table\n",
    "session.execute(\n",
    "    \"\"\" \n",
    "    CREATE TABLE bigdata_1.sales_brozen (\n",
    "        sales_id int PRIMARY KEY,\n",
    "        Region text,\n",
    "        Country text,\n",
    "        Item_Type text,\n",
    "        Sales_Channel text,\n",
    "        Order_Priority text,\n",
    "        Order_Date text,\n",
    "        Order_ID int,\n",
    "        Ship_Date text,\n",
    "        UnitsSold int,\n",
    "        UnitPrice float,\n",
    "        UnitCost float,\n",
    "        TotalRevenue float,\n",
    "        TotalCost float,\n",
    "        TotalProfit float\n",
    "    );\n",
    "    \"\"\"\n",
    ")\n"
   ]
  },
  {
   "cell_type": "markdown",
   "metadata": {},
   "source": [
    "Reading the CSV Data from GITHUB"
   ]
  },
  {
   "cell_type": "code",
   "execution_count": 4,
   "metadata": {},
   "outputs": [],
   "source": [
    "import pandas as pd\n",
    "url = \"https://raw.githubusercontent.com/gchandra10/filestorage/refs/heads/main/sales_100.csv\"\n",
    "df = pd.read_csv(url)"
   ]
  },
  {
   "cell_type": "markdown",
   "metadata": {},
   "source": [
    "Inserting the records into Brozen Table"
   ]
  },
  {
   "cell_type": "code",
   "execution_count": 5,
   "metadata": {},
   "outputs": [],
   "source": [
    "insert_rows = session.prepare(\n",
    "        \"\"\"\n",
    "        INSERT INTO bigdata_1.sales_brozen (\n",
    "                                                sales_id,\n",
    "                                                Region,\n",
    "                                                Country,\n",
    "                                                Item_Type,\n",
    "                                                Sales_Channel,\n",
    "                                                Order_Priority,\n",
    "                                                Order_Date,\n",
    "                                                Order_ID,\n",
    "                                                Ship_Date,\n",
    "                                                UnitsSold,\n",
    "                                                UnitPrice,\n",
    "                                                UnitCost,\n",
    "                                                TotalRevenue,\n",
    "                                                TotalCost,\n",
    "                                                TotalProfit\n",
    "                                         ) VALUES (\n",
    "                                         ?,?,?,?,?,?,?,?,?,?,?,?,?,?,?\n",
    "                                         )\n",
    "        \"\"\",\n",
    ")\n",
    "\n",
    "row_id = 1\n",
    "\n",
    "for index, row in df.iterrows():\n",
    "    session.execute(insert_rows,(row_id,row[\"Region\"],row[\"Country\"],row['Item Type'],row['Sales Channel'],row['Order Priority'],row['Order Date'],\\\n",
    "                                 row['Order ID'],row['Ship Date'],row['UnitsSold'],row['UnitPrice'],row['UnitCost'],row['TotalRevenue'],row['TotalCost'],row['TotalProfit']))\n",
    "    row_id+=1"
   ]
  },
  {
   "cell_type": "markdown",
   "metadata": {},
   "source": [
    "Displaying the Brozen Data"
   ]
  },
  {
   "cell_type": "code",
   "execution_count": 6,
   "metadata": {},
   "outputs": [
    {
     "name": "stdout",
     "output_type": "stream",
     "text": [
      "    sales_id               country        item_type  order_date   order_id  \\\n",
      "0         23          Turkmenistan       Vegetables   4/13/2015  116205585   \n",
      "1         53  Antigua and Barbuda   Office Supplies   10/2/2011  286891067   \n",
      "2         91              Pakistan             Meat  12/28/2013  500371730   \n",
      "3         55              Thailand             Meat    2/4/2015  252889239   \n",
      "4         33                 India           Snacks  10/10/2012  440306556   \n",
      "..       ...                   ...              ...         ...        ...   \n",
      "94        70               Finland       Vegetables   10/9/2012  642134416   \n",
      "95        12               Algeria        Cosmetics   2/18/2011  761723172   \n",
      "96        90               Romania           Cereal   4/16/2015  633134210   \n",
      "97        77              Thailand           Fruits   9/30/2012  434008300   \n",
      "98         3      Papua New Guinea             Meat   5/15/2015  940995585   \n",
      "\n",
      "   order_priority                             region sales_channel  \\\n",
      "0               M                               Asia        Online   \n",
      "1               C  Central America and the Caribbean       Offline   \n",
      "2               M       Middle East and North Africa        Online   \n",
      "3               C                               Asia        Online   \n",
      "4               L                               Asia        Online   \n",
      "..            ...                                ...           ...   \n",
      "94              C                             Europe       Offline   \n",
      "95              M       Middle East and North Africa        Online   \n",
      "96              M                             Europe        Online   \n",
      "97              C                               Asia       Offline   \n",
      "98              M              Australia and Oceania       Offline   \n",
      "\n",
      "     ship_date     totalcost   totalprofit  totalrevenue    unitcost  \\\n",
      "0     6/2/2015  6.065031e+05  4.210771e+05  1.027580e+06   90.930000   \n",
      "1    10/4/2011  3.305673e+06  7.949962e+05  4.100669e+06  524.960022   \n",
      "2    2/15/2014  3.635594e+06  5.702268e+05  4.205822e+06  364.690002   \n",
      "3    2/19/2015  1.605001e+06  2.517372e+05  1.856738e+06  364.690002   \n",
      "4   11/20/2012  5.212066e+05  2.949439e+05  8.161504e+05   97.440002   \n",
      "..         ...           ...           ...           ...         ...   \n",
      "94  11/27/2012  6.346914e+04  4.406474e+04  1.075339e+05   90.930000   \n",
      "95   2/24/2011  2.546138e+06  1.681149e+06  4.227287e+06  263.329987   \n",
      "96   4/18/2015  8.592361e+05  6.499848e+05  1.509221e+06  117.110001   \n",
      "97  11/14/2012  1.076060e+04  3.747550e+03  1.450815e+04    6.920000   \n",
      "98    6/4/2015  1.312884e+05  2.059200e+04  1.518804e+05  364.690002   \n",
      "\n",
      "     unitprice  unitssold  \n",
      "0   154.059998       6670  \n",
      "1   651.210022       6297  \n",
      "2   421.890015       9969  \n",
      "3   421.890015       4401  \n",
      "4   152.580002       5349  \n",
      "..         ...        ...  \n",
      "94  154.059998        698  \n",
      "95  437.200012       9669  \n",
      "96  205.699997       7337  \n",
      "97    9.330000       1555  \n",
      "98  421.890015        360  \n",
      "\n",
      "[99 rows x 15 columns]\n"
     ]
    }
   ],
   "source": [
    "# Fetch all rows from the table\n",
    "query = \"SELECT * FROM bigdata_1.sales_brozen\"\n",
    "rows = session.execute(query)\n",
    "\n",
    "# Convert the result to a Pandas DataFrame\n",
    "data = []\n",
    "for row in rows:\n",
    "    data.append(row._asdict())  # Convert the row object to a dictionary\n",
    "\n",
    "df_result = pd.DataFrame(data)\n",
    "\n",
    "# Display the DataFrame\n",
    "print(df_result)"
   ]
  },
  {
   "cell_type": "markdown",
   "metadata": {},
   "source": [
    "Data Cleaning Activities"
   ]
  },
  {
   "cell_type": "markdown",
   "metadata": {},
   "source": [
    "1. Checking for Duplicates rows"
   ]
  },
  {
   "cell_type": "code",
   "execution_count": 7,
   "metadata": {},
   "outputs": [
    {
     "name": "stdout",
     "output_type": "stream",
     "text": [
      "0\n"
     ]
    }
   ],
   "source": [
    "print(df.duplicated().sum())"
   ]
  },
  {
   "cell_type": "markdown",
   "metadata": {},
   "source": [
    "2. Checking for Null Values"
   ]
  },
  {
   "cell_type": "code",
   "execution_count": 8,
   "metadata": {},
   "outputs": [
    {
     "name": "stdout",
     "output_type": "stream",
     "text": [
      "Region            0\n",
      "Country           0\n",
      "Item Type         0\n",
      "Sales Channel     0\n",
      "Order Priority    0\n",
      "Order Date        0\n",
      "Order ID          0\n",
      "Ship Date         0\n",
      "UnitsSold         0\n",
      "UnitPrice         0\n",
      "UnitCost          0\n",
      "TotalRevenue      0\n",
      "TotalCost         0\n",
      "TotalProfit       0\n",
      "dtype: int64\n"
     ]
    }
   ],
   "source": [
    "print(df.isnull().sum())"
   ]
  },
  {
   "cell_type": "markdown",
   "metadata": {},
   "source": [
    "3. Droping row and Columns with Null Values"
   ]
  },
  {
   "cell_type": "code",
   "execution_count": 9,
   "metadata": {},
   "outputs": [],
   "source": [
    "df = df.dropna()  # Drop rows with any missing values\n",
    "df = df.dropna(axis=1)  # Drop columns with missing values\n"
   ]
  },
  {
   "cell_type": "markdown",
   "metadata": {},
   "source": [
    "4. Datatype conversion"
   ]
  },
  {
   "cell_type": "code",
   "execution_count": 10,
   "metadata": {},
   "outputs": [],
   "source": [
    "df['Order Date'] = pd.to_datetime(df['Order Date'], format='%m/%d/%Y', errors='coerce')\n",
    "df['Ship Date'] = pd.to_datetime(df['Ship Date'], format='%m/%d/%Y', errors='coerce')"
   ]
  },
  {
   "cell_type": "markdown",
   "metadata": {},
   "source": [
    "Creating the Silver Table"
   ]
  },
  {
   "cell_type": "code",
   "execution_count": 11,
   "metadata": {},
   "outputs": [
    {
     "data": {
      "text/plain": [
       "<cassandra.cluster.ResultSet at 0x22301043310>"
      ]
     },
     "execution_count": 11,
     "metadata": {},
     "output_type": "execute_result"
    }
   ],
   "source": [
    "# Drop the table if it exists\n",
    "session.execute(\n",
    "    \"\"\" \n",
    "    DROP TABLE IF EXISTS bigdata_1.sales_silver;\n",
    "    \"\"\"\n",
    ")\n",
    "\n",
    "# Create the table\n",
    "session.execute(\n",
    "    \"\"\" \n",
    "    CREATE TABLE bigdata_1.sales_silver (\n",
    "        sales_id int PRIMARY KEY,\n",
    "        Region text,\n",
    "        Country text,\n",
    "        Item_Type text,\n",
    "        Sales_Channel text,\n",
    "        Order_Priority text,\n",
    "        Order_Date date,\n",
    "        Order_ID int,\n",
    "        Ship_Date date,\n",
    "        UnitsSold int,\n",
    "        UnitPrice float,\n",
    "        UnitCost float,\n",
    "        TotalRevenue float,\n",
    "        TotalCost float,\n",
    "        TotalProfit float\n",
    "    );\n",
    "    \"\"\"\n",
    ")\n"
   ]
  },
  {
   "cell_type": "markdown",
   "metadata": {},
   "source": [
    "Inserting the records into Silver Table"
   ]
  },
  {
   "cell_type": "code",
   "execution_count": 12,
   "metadata": {},
   "outputs": [],
   "source": [
    "insert_rows = session.prepare(\n",
    "        \"\"\"\n",
    "        INSERT INTO bigdata_1.sales_silver (\n",
    "                                                sales_id,\n",
    "                                                Region,\n",
    "                                                Country,\n",
    "                                                Item_Type,\n",
    "                                                Sales_Channel,\n",
    "                                                Order_Priority,\n",
    "                                                Order_Date,\n",
    "                                                Order_ID,\n",
    "                                                Ship_Date,\n",
    "                                                UnitsSold,\n",
    "                                                UnitPrice,\n",
    "                                                UnitCost,\n",
    "                                                TotalRevenue,\n",
    "                                                TotalCost,\n",
    "                                                TotalProfit\n",
    "                                         ) VALUES (\n",
    "                                         ?,?,?,?,?,?,?,?,?,?,?,?,?,?,?\n",
    "                                         )\n",
    "        \"\"\",\n",
    ")\n",
    "\n",
    "row_id = 1\n",
    "\n",
    "for index, row in df.iterrows():\n",
    "    session.execute(insert_rows,(row_id,row[\"Region\"],row[\"Country\"],row['Item Type'],row['Sales Channel'],row['Order Priority'],row['Order Date'],\\\n",
    "                                 row['Order ID'],row['Ship Date'],row['UnitsSold'],row['UnitPrice'],row['UnitCost'],row['TotalRevenue'],row['TotalCost'],row['TotalProfit']))\n",
    "    row_id+=1"
   ]
  },
  {
   "cell_type": "markdown",
   "metadata": {},
   "source": [
    "Displaying Silver Tables Data "
   ]
  },
  {
   "cell_type": "code",
   "execution_count": 13,
   "metadata": {},
   "outputs": [
    {
     "name": "stdout",
     "output_type": "stream",
     "text": [
      "    sales_id               country        item_type  order_date   order_id  \\\n",
      "0         23          Turkmenistan       Vegetables  2015-04-13  116205585   \n",
      "1         53  Antigua and Barbuda   Office Supplies  2011-10-02  286891067   \n",
      "2         91              Pakistan             Meat  2013-12-28  500371730   \n",
      "3         55              Thailand             Meat  2015-02-04  252889239   \n",
      "4         33                 India           Snacks  2012-10-10  440306556   \n",
      "..       ...                   ...              ...         ...        ...   \n",
      "94        70               Finland       Vegetables  2012-10-09  642134416   \n",
      "95        12               Algeria        Cosmetics  2011-02-18  761723172   \n",
      "96        90               Romania           Cereal  2015-04-16  633134210   \n",
      "97        77              Thailand           Fruits  2012-09-30  434008300   \n",
      "98         3      Papua New Guinea             Meat  2015-05-15  940995585   \n",
      "\n",
      "   order_priority                             region sales_channel  \\\n",
      "0               M                               Asia        Online   \n",
      "1               C  Central America and the Caribbean       Offline   \n",
      "2               M       Middle East and North Africa        Online   \n",
      "3               C                               Asia        Online   \n",
      "4               L                               Asia        Online   \n",
      "..            ...                                ...           ...   \n",
      "94              C                             Europe       Offline   \n",
      "95              M       Middle East and North Africa        Online   \n",
      "96              M                             Europe        Online   \n",
      "97              C                               Asia       Offline   \n",
      "98              M              Australia and Oceania       Offline   \n",
      "\n",
      "     ship_date     totalcost   totalprofit  totalrevenue    unitcost  \\\n",
      "0   2015-06-02  6.065031e+05  4.210771e+05  1.027580e+06   90.930000   \n",
      "1   2011-10-04  3.305673e+06  7.949962e+05  4.100669e+06  524.960022   \n",
      "2   2014-02-15  3.635594e+06  5.702268e+05  4.205822e+06  364.690002   \n",
      "3   2015-02-19  1.605001e+06  2.517372e+05  1.856738e+06  364.690002   \n",
      "4   2012-11-20  5.212066e+05  2.949439e+05  8.161504e+05   97.440002   \n",
      "..         ...           ...           ...           ...         ...   \n",
      "94  2012-11-27  6.346914e+04  4.406474e+04  1.075339e+05   90.930000   \n",
      "95  2011-02-24  2.546138e+06  1.681149e+06  4.227287e+06  263.329987   \n",
      "96  2015-04-18  8.592361e+05  6.499848e+05  1.509221e+06  117.110001   \n",
      "97  2012-11-14  1.076060e+04  3.747550e+03  1.450815e+04    6.920000   \n",
      "98  2015-06-04  1.312884e+05  2.059200e+04  1.518804e+05  364.690002   \n",
      "\n",
      "     unitprice  unitssold  \n",
      "0   154.059998       6670  \n",
      "1   651.210022       6297  \n",
      "2   421.890015       9969  \n",
      "3   421.890015       4401  \n",
      "4   152.580002       5349  \n",
      "..         ...        ...  \n",
      "94  154.059998        698  \n",
      "95  437.200012       9669  \n",
      "96  205.699997       7337  \n",
      "97    9.330000       1555  \n",
      "98  421.890015        360  \n",
      "\n",
      "[99 rows x 15 columns]\n"
     ]
    }
   ],
   "source": [
    "# Fetch all rows from the table\n",
    "query = \"SELECT * FROM bigdata_1.sales_silver\"\n",
    "rows = session.execute(query)\n",
    "\n",
    "# Convert the result to a Pandas DataFrame\n",
    "data = []\n",
    "for row in rows:\n",
    "    data.append(row._asdict())  # Convert the row object to a dictionary\n",
    "\n",
    "df_result = pd.DataFrame(data)\n",
    "\n",
    "# Display the DataFrame\n",
    "print(df_result)"
   ]
  },
  {
   "cell_type": "markdown",
   "metadata": {},
   "source": [
    "Aggregating the Data by Region, Country, Item Type and Order Date"
   ]
  },
  {
   "cell_type": "code",
   "execution_count": 14,
   "metadata": {},
   "outputs": [],
   "source": [
    "df['Shipping_Duration'] = (df['Ship Date'] - df['Order Date']).dt.days\n",
    "df['Profit_Margin'] = (df['TotalProfit'] / df['TotalRevenue']) * 100\n",
    "gold_table = df.groupby(['Region', 'Country', 'Item Type', 'Order Date'], as_index=False).agg(\n",
    "    Total_UnitsSold=('UnitsSold', 'sum'),\n",
    "    Total_Revenue=('TotalRevenue', 'sum'),\n",
    "    Total_Profit=('TotalProfit', 'sum'),\n",
    "    Average_Profit_Margin=('Profit_Margin', 'mean'),\n",
    "    Average_Shipping_Duration=('Shipping_Duration', 'mean')\n",
    ")"
   ]
  },
  {
   "cell_type": "markdown",
   "metadata": {},
   "source": [
    "Creating the Gold Table"
   ]
  },
  {
   "cell_type": "code",
   "execution_count": 20,
   "metadata": {},
   "outputs": [],
   "source": [
    "# Calculate Total Revenue, Cost, and Profit by Region and Country\n",
    "gold_table_1 = df.groupby(['Region', 'Country']).agg({\n",
    "    'TotalRevenue': 'sum',\n",
    "    'TotalCost': 'sum',\n",
    "    'TotalProfit': 'sum'\n",
    "}).reset_index()"
   ]
  },
  {
   "cell_type": "code",
   "execution_count": 21,
   "metadata": {},
   "outputs": [
    {
     "data": {
      "text/html": [
       "<div>\n",
       "<style scoped>\n",
       "    .dataframe tbody tr th:only-of-type {\n",
       "        vertical-align: middle;\n",
       "    }\n",
       "\n",
       "    .dataframe tbody tr th {\n",
       "        vertical-align: top;\n",
       "    }\n",
       "\n",
       "    .dataframe thead th {\n",
       "        text-align: right;\n",
       "    }\n",
       "</style>\n",
       "<table border=\"1\" class=\"dataframe\">\n",
       "  <thead>\n",
       "    <tr style=\"text-align: right;\">\n",
       "      <th></th>\n",
       "      <th>Region</th>\n",
       "      <th>Country</th>\n",
       "      <th>TotalRevenue</th>\n",
       "      <th>TotalCost</th>\n",
       "      <th>TotalProfit</th>\n",
       "    </tr>\n",
       "  </thead>\n",
       "  <tbody>\n",
       "    <tr>\n",
       "      <th>0</th>\n",
       "      <td>Asia</td>\n",
       "      <td>Brunei</td>\n",
       "      <td>868465.40</td>\n",
       "      <td>494438.42</td>\n",
       "      <td>374026.98</td>\n",
       "    </tr>\n",
       "    <tr>\n",
       "      <th>1</th>\n",
       "      <td>Asia</td>\n",
       "      <td>China</td>\n",
       "      <td>3771157.11</td>\n",
       "      <td>3040043.36</td>\n",
       "      <td>731113.75</td>\n",
       "    </tr>\n",
       "    <tr>\n",
       "      <th>2</th>\n",
       "      <td>Asia</td>\n",
       "      <td>India</td>\n",
       "      <td>816150.42</td>\n",
       "      <td>521206.56</td>\n",
       "      <td>294943.86</td>\n",
       "    </tr>\n",
       "    <tr>\n",
       "      <th>3</th>\n",
       "      <td>Asia</td>\n",
       "      <td>Indonesia</td>\n",
       "      <td>1176911.59</td>\n",
       "      <td>840453.44</td>\n",
       "      <td>336458.15</td>\n",
       "    </tr>\n",
       "    <tr>\n",
       "      <th>4</th>\n",
       "      <td>Asia</td>\n",
       "      <td>Japan</td>\n",
       "      <td>5608790.11</td>\n",
       "      <td>4217818.22</td>\n",
       "      <td>1390971.89</td>\n",
       "    </tr>\n",
       "    <tr>\n",
       "      <th>...</th>\n",
       "      <td>...</td>\n",
       "      <td>...</td>\n",
       "      <td>...</td>\n",
       "      <td>...</td>\n",
       "      <td>...</td>\n",
       "    </tr>\n",
       "    <tr>\n",
       "      <th>75</th>\n",
       "      <td>Sub-Saharan Africa</td>\n",
       "      <td>Tanzania</td>\n",
       "      <td>3555764.47</td>\n",
       "      <td>2158894.56</td>\n",
       "      <td>1396869.91</td>\n",
       "    </tr>\n",
       "    <tr>\n",
       "      <th>76</th>\n",
       "      <td>Sub-Saharan Africa</td>\n",
       "      <td>The Gambia</td>\n",
       "      <td>81161.67</td>\n",
       "      <td>60197.08</td>\n",
       "      <td>20964.59</td>\n",
       "    </tr>\n",
       "    <tr>\n",
       "      <th>77</th>\n",
       "      <td>Sub-Saharan Africa</td>\n",
       "      <td>Togo</td>\n",
       "      <td>2101183.20</td>\n",
       "      <td>1265563.98</td>\n",
       "      <td>835619.22</td>\n",
       "    </tr>\n",
       "    <tr>\n",
       "      <th>78</th>\n",
       "      <td>Sub-Saharan Africa</td>\n",
       "      <td>Uganda</td>\n",
       "      <td>2673613.43</td>\n",
       "      <td>1613701.40</td>\n",
       "      <td>1059912.03</td>\n",
       "    </tr>\n",
       "    <tr>\n",
       "      <th>79</th>\n",
       "      <td>Sub-Saharan Africa</td>\n",
       "      <td>Zimbabwe</td>\n",
       "      <td>6266593.83</td>\n",
       "      <td>5051690.08</td>\n",
       "      <td>1214903.75</td>\n",
       "    </tr>\n",
       "  </tbody>\n",
       "</table>\n",
       "<p>80 rows × 5 columns</p>\n",
       "</div>"
      ],
      "text/plain": [
       "                Region     Country  TotalRevenue   TotalCost  TotalProfit\n",
       "0                 Asia      Brunei     868465.40   494438.42    374026.98\n",
       "1                 Asia       China    3771157.11  3040043.36    731113.75\n",
       "2                 Asia       India     816150.42   521206.56    294943.86\n",
       "3                 Asia   Indonesia    1176911.59   840453.44    336458.15\n",
       "4                 Asia       Japan    5608790.11  4217818.22   1390971.89\n",
       "..                 ...         ...           ...         ...          ...\n",
       "75  Sub-Saharan Africa    Tanzania    3555764.47  2158894.56   1396869.91\n",
       "76  Sub-Saharan Africa  The Gambia      81161.67    60197.08     20964.59\n",
       "77  Sub-Saharan Africa        Togo    2101183.20  1265563.98    835619.22\n",
       "78  Sub-Saharan Africa      Uganda    2673613.43  1613701.40   1059912.03\n",
       "79  Sub-Saharan Africa    Zimbabwe    6266593.83  5051690.08   1214903.75\n",
       "\n",
       "[80 rows x 5 columns]"
      ]
     },
     "execution_count": 21,
     "metadata": {},
     "output_type": "execute_result"
    }
   ],
   "source": [
    "gold_table_1"
   ]
  },
  {
   "cell_type": "code",
   "execution_count": 27,
   "metadata": {},
   "outputs": [
    {
     "name": "stdout",
     "output_type": "stream",
     "text": [
      "          Item Type  TotalRevenue    TotalCost  TotalProfit\n",
      "0         Baby Food    5200564.16   3247704.24   1952859.92\n",
      "1         Beverages    2145024.70   1437098.74    707925.96\n",
      "2            Cereal    9416123.20   5360827.36   4055295.84\n",
      "3           Clothes    4387373.44   1438904.32   2948469.12\n",
      "4         Cosmetics   28727100.40  17302624.31  11424476.09\n",
      "5            Fruits     615033.60    456166.40    158867.20\n",
      "6         Household   38519082.80  28966405.60   9552677.20\n",
      "7              Meat   21278865.93  18393869.53   2884996.40\n",
      "8   Office Supplies   27880904.94  22475637.44   5405267.50\n",
      "9     Personal Care    3191147.85   2212680.15    978467.70\n",
      "10           Snacks    2193642.66   1400894.88    792747.78\n",
      "11       Vegetables    1135114.08    669972.24    465141.84\n"
     ]
    }
   ],
   "source": [
    "# Calculate Sales Performance by Item Type\n",
    "gold_table_2 = df.groupby('Item Type').agg({\n",
    "    'TotalRevenue': 'sum',\n",
    "    'TotalCost': 'sum',\n",
    "    'TotalProfit': 'sum'\n",
    "}).reset_index()\n",
    "\n",
    "print(gold_table_2)\n"
   ]
  },
  {
   "cell_type": "code",
   "execution_count": 30,
   "metadata": {},
   "outputs": [
    {
     "name": "stdout",
     "output_type": "stream",
     "text": [
      "  Order Priority Sales Channel  UnitsSold   UnitPrice\n",
      "0              C       Offline      38003  457.407500\n",
      "1              C        Online      54168  271.538182\n",
      "2              H       Offline      50026  312.753000\n",
      "3              H        Online      71680  261.349167\n",
      "4              L       Offline      59931  154.047000\n",
      "5              L        Online      59696  230.461429\n",
      "6              M       Offline      38530  216.261667\n",
      "7              M        Online     122776  298.861364\n"
     ]
    }
   ],
   "source": [
    "# Calculate Units Sold and Average Unit Price by Order Priority and Sales Channel\n",
    "gold_table_3 = df.groupby(['Order Priority', 'Sales Channel']).agg({\n",
    "    'UnitsSold': 'sum',\n",
    "    'UnitPrice': 'mean'\n",
    "}).reset_index()\n",
    "\n",
    "print(gold_table_3)\n"
   ]
  },
  {
   "cell_type": "code",
   "execution_count": 38,
   "metadata": {},
   "outputs": [
    {
     "data": {
      "text/plain": [
       "<cassandra.cluster.ResultSet at 0x22304936650>"
      ]
     },
     "execution_count": 38,
     "metadata": {},
     "output_type": "execute_result"
    }
   ],
   "source": [
    "# Drop the table if it exists\n",
    "session.execute(\n",
    "    \"\"\" \n",
    "    DROP TABLE IF EXISTS bigdata_1.gold_sales_rev_country;\n",
    "    \"\"\"\n",
    ")\n",
    "\n",
    "session.execute(\n",
    "    \"\"\" \n",
    "    CREATE TABLE bigdata_1.gold_sales_rev_country (\n",
    "    Rev_ID int primary key,\n",
    "    Region TEXT,\n",
    "    Country TEXT,\n",
    "    TotalRevenue FLOAT,\n",
    "    TotalCost FLOAT,\n",
    "    TotalProfit FLOAT\n",
    ");\n",
    "\n",
    "    \"\"\"\n",
    ")\n"
   ]
  },
  {
   "cell_type": "markdown",
   "metadata": {},
   "source": [
    "Inserting Records into Gold Table"
   ]
  },
  {
   "cell_type": "code",
   "execution_count": 39,
   "metadata": {},
   "outputs": [
    {
     "data": {
      "text/plain": [
       "Index(['Region', 'Country', 'TotalRevenue', 'TotalCost', 'TotalProfit'], dtype='object')"
      ]
     },
     "execution_count": 39,
     "metadata": {},
     "output_type": "execute_result"
    }
   ],
   "source": [
    "gold_table_1.columns"
   ]
  },
  {
   "cell_type": "code",
   "execution_count": 40,
   "metadata": {},
   "outputs": [],
   "source": [
    "\n",
    "insert_query = session.prepare(\"\"\"\n",
    "INSERT INTO bigdata_1.gold_sales_rev_country (\n",
    "    Rev_ID,\n",
    "    Region,\n",
    "    Country,\n",
    "    TotalRevenue,\n",
    "    TotalCost,\n",
    "    TotalProfit\n",
    ") VALUES (?, ?, ?, ?, ?, ?);\n",
    "\"\"\"\n",
    ")\n",
    "count=1\n",
    "# Insert data from a Pandas DataFrame\n",
    "for _, row in gold_table_1.iterrows():\n",
    "    session.execute(insert_query, (\n",
    "        count,\n",
    "        row['Region'],\n",
    "        row['Country'], \n",
    "        row['TotalRevenue'],\n",
    "        row['TotalCost'],\n",
    "        row['TotalProfit']\n",
    "    ))\n",
    "    count+=1\n"
   ]
  },
  {
   "cell_type": "markdown",
   "metadata": {},
   "source": [
    "Displaying Few Aggregation results"
   ]
  },
  {
   "cell_type": "code",
   "execution_count": 41,
   "metadata": {},
   "outputs": [
    {
     "name": "stdout",
     "output_type": "stream",
     "text": [
      "Row(rev_id=23, country='Antigua and Barbuda ', region='Central America and the Caribbean', totalcost=3305673.0, totalprofit=794996.25, totalrevenue=4100669.25)\n",
      "Row(rev_id=53, country='Kuwait', region='Middle East and North Africa', totalcost=736723.625, totalprofit=242960.1875, totalrevenue=979683.8125)\n",
      "Row(rev_id=55, country='Morocco', region='Middle East and North Africa', totalcost=165258.234375, totalprofit=338631.84375, totalrevenue=503890.09375)\n",
      "Row(rev_id=33, country='Czech Republic', region='Europe', totalcost=2411312.75, totalprofit=1592127.625, totalrevenue=4003440.5)\n",
      "Row(rev_id=5, country='Japan', region='Asia', totalcost=4217818.0, totalprofit=1390971.875, totalrevenue=5608790.0)\n"
     ]
    }
   ],
   "source": [
    "# Execute the query\n",
    "rows = session.execute(\n",
    "    \"\"\"\n",
    "    SELECT * FROM bigdata_1.gold_sales_rev_country limit 5;\n",
    "    \"\"\"\n",
    ")\n",
    "\n",
    "# Print the rows\n",
    "for row in rows:\n",
    "    print(row)\n"
   ]
  },
  {
   "cell_type": "code",
   "execution_count": 42,
   "metadata": {},
   "outputs": [
    {
     "data": {
      "text/plain": [
       "Index(['Item Type', 'TotalRevenue', 'TotalCost', 'TotalProfit'], dtype='object')"
      ]
     },
     "execution_count": 42,
     "metadata": {},
     "output_type": "execute_result"
    }
   ],
   "source": [
    "gold_table_2.columns"
   ]
  },
  {
   "cell_type": "code",
   "execution_count": 43,
   "metadata": {},
   "outputs": [
    {
     "data": {
      "text/plain": [
       "<cassandra.cluster.ResultSet at 0x2230410fb90>"
      ]
     },
     "execution_count": 43,
     "metadata": {},
     "output_type": "execute_result"
    }
   ],
   "source": [
    "# Drop the table if it exists\n",
    "session.execute(\n",
    "    \"\"\" \n",
    "    DROP TABLE IF EXISTS bigdata_1.gold_sales_performance_by_item_type;\n",
    "    \"\"\"\n",
    ")\n",
    "\n",
    "\n",
    "session.execute(\n",
    "    \"\"\" \n",
    "    CREATE TABLE bigdata_1.gold_sales_performance_by_item_type (\n",
    "    Sales_ID int primary key,\n",
    "    Item_type TEXT,\n",
    "    TotalRevenue FLOAT,\n",
    "    TotalCost FLOAT,\n",
    "    TotalProfit FLOAT\n",
    ");\n",
    "\n",
    "    \"\"\"\n",
    ")\n"
   ]
  },
  {
   "cell_type": "code",
   "execution_count": 44,
   "metadata": {},
   "outputs": [],
   "source": [
    "\n",
    "insert_query = session.prepare(\"\"\"\n",
    "INSERT INTO bigdata_1.gold_sales_performance_by_item_type (\n",
    "    Sales_ID,\n",
    "    Item_type,\n",
    "    TotalRevenue,\n",
    "    TotalCost,\n",
    "    TotalProfit\n",
    ") VALUES (?, ?, ?, ?, ?);\n",
    "\"\"\"\n",
    ")\n",
    "count=1\n",
    "# Insert data from a Pandas DataFrame\n",
    "for _, row in gold_table_2.iterrows():\n",
    "    session.execute(insert_query, (\n",
    "        count,\n",
    "        row['Item Type'], \n",
    "        row['TotalRevenue'],\n",
    "        row['TotalCost'],\n",
    "        row['TotalProfit']\n",
    "    ))\n",
    "    count+=1\n"
   ]
  },
  {
   "cell_type": "code",
   "execution_count": 46,
   "metadata": {},
   "outputs": [
    {
     "name": "stdout",
     "output_type": "stream",
     "text": [
      "Row(sales_id=5, item_type='Cosmetics', totalcost=17302624.0, totalprofit=11424476.0, totalrevenue=28727100.0)\n",
      "Row(sales_id=10, item_type='Personal Care', totalcost=2212680.25, totalprofit=978467.6875, totalrevenue=3191147.75)\n",
      "Row(sales_id=11, item_type='Snacks', totalcost=1400894.875, totalprofit=792747.75, totalrevenue=2193642.75)\n",
      "Row(sales_id=1, item_type='Baby Food', totalcost=3247704.25, totalprofit=1952859.875, totalrevenue=5200564.0)\n",
      "Row(sales_id=8, item_type='Meat', totalcost=18393870.0, totalprofit=2884996.5, totalrevenue=21278866.0)\n"
     ]
    }
   ],
   "source": [
    "rows=session.execute(\n",
    "    \"\"\" \n",
    "    SELECT * FROM bigdata_1.gold_sales_performance_by_item_type LIMIT 5;\n",
    "    \"\"\"\n",
    ")\n",
    "\n",
    "\n",
    "# Print the rows\n",
    "for row in rows:\n",
    "    print(row)"
   ]
  },
  {
   "cell_type": "code",
   "execution_count": 56,
   "metadata": {},
   "outputs": [
    {
     "data": {
      "text/plain": [
       "<cassandra.cluster.ResultSet at 0x22304a863d0>"
      ]
     },
     "execution_count": 56,
     "metadata": {},
     "output_type": "execute_result"
    }
   ],
   "source": [
    "# Drop the table if it exists\n",
    "session.execute(\n",
    "    \"\"\" \n",
    "    DROP TABLE IF EXISTS bigdata_1.gold_order_priority_by_sales;\n",
    "    \"\"\"\n",
    ")\n",
    "\n",
    "\n",
    "session.execute(\n",
    "    \"\"\" \n",
    "    CREATE TABLE bigdata_1.gold_order_priority_by_sales (\n",
    "    Order_priority_ID int primary key,\n",
    "    Order_priority TEXT,\n",
    "    Sales_channel TEXT,\n",
    "    UnitPrice FLOAT,\n",
    "    UnitsSold INT\n",
    ");\n",
    "\n",
    "    \"\"\"\n",
    ")\n"
   ]
  },
  {
   "cell_type": "code",
   "execution_count": 58,
   "metadata": {},
   "outputs": [],
   "source": [
    "\n",
    "insert_query = session.prepare(\"\"\"\n",
    "INSERT INTO bigdata_1.gold_order_priority_by_sales (\n",
    "    Order_priority_ID,\n",
    "    Order_priority,\n",
    "    Sales_channel,\n",
    "    UnitPrice,\n",
    "    UnitsSold\n",
    ") VALUES (?, ?, ?, ?,?);\n",
    "\"\"\"\n",
    ")\n",
    "count=1\n",
    "# Insert data from a Pandas DataFrame\n",
    "for _, row in gold_table_3.iterrows():\n",
    "    session.execute(insert_query, (\n",
    "        count,\n",
    "        row['Order Priority'], \n",
    "        row['Sales Channel'],\n",
    "        row['UnitPrice'],\n",
    "        row['UnitsSold']\n",
    "    ))\n",
    "    count+=1\n"
   ]
  },
  {
   "cell_type": "code",
   "execution_count": 59,
   "metadata": {},
   "outputs": [
    {
     "name": "stdout",
     "output_type": "stream",
     "text": [
      "Row(order_priority_id=5, order_priority='L', sales_channel='Offline', unitprice=154.0469970703125, unitssold=59931)\n",
      "Row(order_priority_id=1, order_priority='C', sales_channel='Offline', unitprice=457.4075012207031, unitssold=38003)\n",
      "Row(order_priority_id=8, order_priority='M', sales_channel='Online', unitprice=298.8613586425781, unitssold=122776)\n",
      "Row(order_priority_id=2, order_priority='C', sales_channel='Online', unitprice=271.5381774902344, unitssold=54168)\n",
      "Row(order_priority_id=4, order_priority='H', sales_channel='Online', unitprice=261.3491516113281, unitssold=71680)\n"
     ]
    }
   ],
   "source": [
    "rows=session.execute(\n",
    "    \"\"\" \n",
    "    SELECT * FROM bigdata_1.gold_order_priority_by_sales LIMIT 5;\n",
    "    \"\"\"\n",
    ")\n",
    "\n",
    "\n",
    "# Print the rows\n",
    "for row in rows:\n",
    "    print(row)"
   ]
  },
  {
   "cell_type": "code",
   "execution_count": 62,
   "metadata": {},
   "outputs": [
    {
     "name": "stdout",
     "output_type": "stream",
     "text": [
      "Row(table_name='developers_by_language')\n",
      "Row(table_name='gold_order_priority_by_sales')\n",
      "Row(table_name='gold_sales_performance_by_item_type')\n",
      "Row(table_name='gold_sales_rev_country')\n",
      "Row(table_name='monster_by_city')\n",
      "Row(table_name='monster_by_family')\n",
      "Row(table_name='sales_brozen')\n",
      "Row(table_name='sales_silver')\n",
      "Row(table_name='test')\n",
      "Row(table_name='users')\n"
     ]
    }
   ],
   "source": [
    "query = \"SELECT table_name FROM system_schema.tables WHERE keyspace_name = 'bigdata_1';\"\n",
    "result = session.execute(query)\n",
    "# Print the tables\n",
    "for table in result:\n",
    "    print(table)"
   ]
  },
  {
   "cell_type": "code",
   "execution_count": null,
   "metadata": {},
   "outputs": [],
   "source": []
  }
 ],
 "metadata": {
  "kernelspec": {
   "display_name": "Python 3",
   "language": "python",
   "name": "python3"
  },
  "language_info": {
   "codemirror_mode": {
    "name": "ipython",
    "version": 3
   },
   "file_extension": ".py",
   "mimetype": "text/x-python",
   "name": "python",
   "nbconvert_exporter": "python",
   "pygments_lexer": "ipython3",
   "version": "3.11.9"
  }
 },
 "nbformat": 4,
 "nbformat_minor": 2
}
